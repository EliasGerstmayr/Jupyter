{
 "cells": [
  {
   "cell_type": "markdown",
   "metadata": {},
   "source": [
    "# Gemini Staging 2017 - Betatron Properties"
   ]
  },
  {
   "cell_type": "markdown",
   "metadata": {},
   "source": [
    "This Jupyter notebook is used to estimate the betatron properties in the Gemini Mangles experiment investigating radiation reaction in December 2015.\n",
    "\n",
    "### Import libraries"
   ]
  },
  {
   "cell_type": "code",
   "execution_count": 10,
   "metadata": {
    "collapsed": true
   },
   "outputs": [],
   "source": [
    "import math"
   ]
  },
  {
   "cell_type": "markdown",
   "metadata": {},
   "source": [
    "### Basic Constants"
   ]
  },
  {
   "cell_type": "code",
   "execution_count": 11,
   "metadata": {
    "collapsed": false
   },
   "outputs": [],
   "source": [
    "hbar = 6.5828110*10**(-16) # hbar in units of eV s\n",
    "clight = 2.998*10**8       # speed of light in units of m/s"
   ]
  },
  {
   "cell_type": "markdown",
   "metadata": {},
   "source": [
    "### Basic Betatron Equations"
   ]
  },
  {
   "cell_type": "code",
   "execution_count": 12,
   "metadata": {
    "collapsed": false
   },
   "outputs": [],
   "source": [
    "def plasmafreq(ne): # calculates plasma frequency, ne in units of cm^-3 \n",
    "    return math.sqrt(3182.607*ne*10**6) # coversion in units of rad/s\n",
    "    \n",
    "    \n",
    "def betatronfreq(ne, gamma): # calculates the betatron frequency, ne in units of cm^-3\n",
    "    return plasmafreq(ne)/math.sqrt(2*gamma) # return in rad/s\n",
    "\n",
    "\n",
    "def ecritdiv(ne, gamma, divergencemax): # calculates critical energy, ne in cm^-3, divergencemax in mrad\n",
    "    return (3*math.sqrt(2)/4)*hbar*plasmafreq(ne)*gamma**(5/2)*divergencemax*10**(-3) # return in eV\n",
    "\n",
    "\n",
    "def ecrit(ne, gamma, rbeta): # calculates the critical energy, ne in cm^-3, rbeta in microns\n",
    "    return (3/4)*hbar*plasmafreq(ne)**2*gamma**2/clight*rbeta*10**(-6) # return in eV\n",
    "\n",
    "\n",
    "def divergence(ne, gamma, rbeta): # calculates maximum divergence, ne in cm^-3, rbeta in microns\n",
    "    return plasmafreq(ne)*rbeta*10**(-3)/(clight*math.sqrt(2*gamma)) # return in mrad"
   ]
  },
  {
   "cell_type": "markdown",
   "metadata": {},
   "source": [
    "### Parameters from CsI fitting"
   ]
  },
  {
   "cell_type": "markdown",
   "metadata": {},
   "source": [
    "These parameters are estimates from Jason's analysis judging from the CsI data and comparing to the especs.\n",
    "\n",
    "The critical energy is extraordinarily high. Bremsstrahlung and betatron radiation should not reach these energies.\n",
    "\n",
    "Fit parameter ranges from 40-80 MeV but this is not the critical energy.\n",
    "\n",
    "It follows the equation dN/dE = A E^(-2/3) exp(-E/t) with T the fit parameter."
   ]
  },
  {
   "cell_type": "markdown",
   "metadata": {},
   "source": [
    "### Parameters from espec"
   ]
  },
  {
   "cell_type": "markdown",
   "metadata": {},
   "source": [
    "Parameters from especs of non-collision shots.\n",
    "\n",
    "#### First the peak:"
   ]
  },
  {
   "cell_type": "code",
   "execution_count": 13,
   "metadata": {
    "collapsed": true
   },
   "outputs": [],
   "source": [
    "gamma1 = 2000        # assuming approx 1 GeV\n",
    "density1 = 3*10**18  # in cm^-3\n",
    "divergence1 = 4      # in mrad"
   ]
  },
  {
   "cell_type": "markdown",
   "metadata": {},
   "source": [
    "Derived parameters:"
   ]
  },
  {
   "cell_type": "code",
   "execution_count": 14,
   "metadata": {
    "collapsed": false
   },
   "outputs": [],
   "source": [
    "omegap1 = plasmafreq(density1)\n",
    "ecrit1 = ecritdiv(density1,gamma1,divergence1)"
   ]
  },
  {
   "cell_type": "code",
   "execution_count": 15,
   "metadata": {
    "collapsed": false
   },
   "outputs": [
    {
     "name": "stdout",
     "output_type": "stream",
     "text": [
      "Plasma frequency = 9.771e+13 1/s\n",
      "Critical Energy = 4.882e+04 eV\n",
      "Maximum Divergence = 4.000e+00 mrad\n"
     ]
    }
   ],
   "source": [
    "print(\"Plasma frequency = \" \"%.3e 1/s\" % omegap1)\n",
    "print(\"Critical Energy = \" \"%.3e eV\" % ecrit1)\n",
    "print(\"Maximum Divergence = \" \"%.3e mrad\" % divergence1)"
   ]
  },
  {
   "cell_type": "markdown",
   "metadata": {},
   "source": [
    "#### Main charge (edge)"
   ]
  },
  {
   "cell_type": "code",
   "execution_count": 16,
   "metadata": {
    "collapsed": true
   },
   "outputs": [],
   "source": [
    "gamma2 = 1200        # assuming approx 600 MeV\n",
    "density2 = 3*10**18  # in cm^-3\n",
    "divergence2 = 4      # in mrad"
   ]
  },
  {
   "cell_type": "markdown",
   "metadata": {},
   "source": [
    "Derived parameters:"
   ]
  },
  {
   "cell_type": "code",
   "execution_count": 17,
   "metadata": {
    "collapsed": true
   },
   "outputs": [],
   "source": [
    "omegap2 = plasmafreq(density2)\n",
    "ecrit2 = ecritdiv(density2,gamma2,divergence2)"
   ]
  },
  {
   "cell_type": "code",
   "execution_count": 18,
   "metadata": {
    "collapsed": false
   },
   "outputs": [
    {
     "name": "stdout",
     "output_type": "stream",
     "text": [
      "Plasma frequency = 9.771e+13 1/s\n",
      "Critical Energy = 1.361e+04 eV\n",
      "Maximum Divergence = 4.000e+00 mrad\n"
     ]
    }
   ],
   "source": [
    "print(\"Plasma frequency = \" \"%.3e 1/s\" % omegap2)\n",
    "print(\"Critical Energy = \" \"%.3e eV\" % ecrit2)\n",
    "print(\"Maximum Divergence = \" \"%.3e mrad\" % divergence2)"
   ]
  },
  {
   "cell_type": "code",
   "execution_count": null,
   "metadata": {
    "collapsed": true
   },
   "outputs": [],
   "source": []
  }
 ],
 "metadata": {
  "anaconda-cloud": {},
  "kernelspec": {
   "display_name": "Python [default]",
   "language": "python",
   "name": "python3"
  },
  "language_info": {
   "codemirror_mode": {
    "name": "ipython",
    "version": 3
   },
   "file_extension": ".py",
   "mimetype": "text/x-python",
   "name": "python",
   "nbconvert_exporter": "python",
   "pygments_lexer": "ipython3",
   "version": "3.5.2"
  }
 },
 "nbformat": 4,
 "nbformat_minor": 1
}
