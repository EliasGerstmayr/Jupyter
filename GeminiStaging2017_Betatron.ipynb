{
 "cells": [
  {
   "cell_type": "markdown",
   "metadata": {},
   "source": [
    "# Gemini Staging 2017 - Betatron Properties"
   ]
  },
  {
   "cell_type": "markdown",
   "metadata": {},
   "source": [
    "This Jupyter notebook is used to estimate the betatron properties in the Gemini Staging experiment planned for October 2017."
   ]
  },
  {
   "cell_type": "markdown",
   "metadata": {},
   "source": [
    "### Import libraries"
   ]
  },
  {
   "cell_type": "code",
   "execution_count": 42,
   "metadata": {
    "collapsed": true
   },
   "outputs": [],
   "source": [
    "import math\n",
    "import numpy as np\n",
    "from numpy import pi, sin, cos\n",
    "import matplotlib.pyplot as plt\n",
    "import matplotlib.ticker as tck"
   ]
  },
  {
   "cell_type": "markdown",
   "metadata": {},
   "source": [
    "### Basic Constants"
   ]
  },
  {
   "cell_type": "code",
   "execution_count": 43,
   "metadata": {
    "collapsed": false
   },
   "outputs": [],
   "source": [
    "hbar = 6.5828110*10**(-16) # hbar in units of eV s\n",
    "clight = 2.998*10**8       # speed of light in units of m/s"
   ]
  },
  {
   "cell_type": "markdown",
   "metadata": {},
   "source": [
    "### Basic Betatron Equations"
   ]
  },
  {
   "cell_type": "code",
   "execution_count": 44,
   "metadata": {
    "collapsed": false
   },
   "outputs": [],
   "source": [
    "def plasmafreq(ne): # calculates plasma frequency, ne in units of cm^-3 \n",
    "    return math.sqrt(3182.607*ne*10**6) # coversion in units of rad/s\n",
    "    \n",
    "    \n",
    "def betatronfreq(ne, gamma): # calculates the betatron frequency, ne in units of cm^-3\n",
    "    return plasmafreq(ne)/math.sqrt(2*gamma) # return in rad/s\n",
    "\n",
    "\n",
    "def ecritdiv(ne, gamma, divergencemax): # calculates critical energy, ne in cm^-3, divergencemax in mrad\n",
    "    return (3*math.sqrt(2)/4)*hbar*plasmafreq(ne)*gamma**(5/2)*divergencemax*10**(-3) # return in eV\n",
    "\n",
    "\n",
    "def ecrit(ne, gamma, rbeta): # calculates the critical energy, ne in cm^-3, rbeta in microns\n",
    "    return (3/4)*hbar*plasmafreq(ne)**2*gamma**2/clight*rbeta*10**(-6) # return in eV\n",
    "\n",
    "\n",
    "def divergence(ne, gamma, rbeta): # calculates maximum divergence, ne in cm^-3, rbeta in microns\n",
    "    return plasmafreq(ne)*rbeta*10**(-3)/(clight*math.sqrt(2*gamma)) # return in mrad"
   ]
  },
  {
   "cell_type": "markdown",
   "metadata": {},
   "source": [
    "### Other equations"
   ]
  },
  {
   "cell_type": "code",
   "execution_count": 45,
   "metadata": {
    "collapsed": true
   },
   "outputs": [],
   "source": [
    "def laserfreq(wavelength): # calculates the laser frequency omega from wavelength in microns\n",
    "    return 2*pi*clight/(wavelength*10**(-6)) # return in rad/s\n",
    "\n",
    "def rbubble(a0,ne): # calculates the bubble or blowout radius for matched spot-size\n",
    "    return 10**6*2*math.sqrt(a0)*clight/plasmafreq(ne) # return in microns\n",
    "\n",
    "def Ldephasing(a0,ne): # calculates the dephasing length in absence of betatron oscillations\n",
    "    return 2*10**(-3)*laserfreq(0.8)**2/plasmafreq(ne)**2*rbubble(a0,ne) # return in mm\n",
    "\n",
    "def Ldephasing_beta(a0,ne,gamma,rbeta): # calculates the dephasing length with betatron oscillations\n",
    "    return Ldephasing(a0,ne)*(1-(laserfreq(0.8)*rbeta*10**(-6)/clight)**2/(4*gamma))**(-1)\n",
    "\n",
    "def Ldephasing_betaDelta(ne,gamma,rbeta1,rbeta2): # calculates the relative dephasing gain from rbeta1 to rbeta2, only holds for k^2rbeta^2/4gamma << 1\n",
    "    return (laserfreq(0.8)/clight)**2/(4*gamma)*(rbeta2**2-rbeta1**2)*(10**(-6))**2 # in units of Ldephasing"
   ]
  },
  {
   "cell_type": "markdown",
   "metadata": {},
   "source": [
    "### Parameters: Stage 1"
   ]
  },
  {
   "cell_type": "markdown",
   "metadata": {},
   "source": [
    "Assumed parameters:"
   ]
  },
  {
   "cell_type": "code",
   "execution_count": 46,
   "metadata": {
    "collapsed": true
   },
   "outputs": [],
   "source": [
    "gamma1 = 3000        # assuming approx 1.5 GeV\n",
    "density1 = 2*10**18  # in cm^-3\n",
    "rbeta1 = 0.5           # in microns"
   ]
  },
  {
   "cell_type": "markdown",
   "metadata": {},
   "source": [
    "Derived parameters:"
   ]
  },
  {
   "cell_type": "code",
   "execution_count": 47,
   "metadata": {
    "collapsed": false
   },
   "outputs": [],
   "source": [
    "omegap1 = plasmafreq(density1)\n",
    "ecrit1 = ecrit(density1,gamma1,rbeta1)\n",
    "divergence1 = divergence(density1,gamma1,rbeta1)"
   ]
  },
  {
   "cell_type": "code",
   "execution_count": 48,
   "metadata": {
    "collapsed": false
   },
   "outputs": [
    {
     "name": "stdout",
     "output_type": "stream",
     "text": [
      "Plasma frequency = 7.978e+13 1/s\n",
      "Critical Energy = 4.717e+04 eV\n",
      "Maximum Divergence = 1.718e+00 mrad\n"
     ]
    }
   ],
   "source": [
    "print(\"Plasma frequency = \" \"%.3e 1/s\" % omegap1)\n",
    "print(\"Critical Energy = \" \"%.3e eV\" % ecrit1)\n",
    "print(\"Maximum Divergence = \" \"%.3e mrad\" % divergence1)"
   ]
  },
  {
   "cell_type": "markdown",
   "metadata": {},
   "source": [
    "### Parameters: Stage 2"
   ]
  },
  {
   "cell_type": "markdown",
   "metadata": {},
   "source": [
    "Assumed parameters:"
   ]
  },
  {
   "cell_type": "code",
   "execution_count": 49,
   "metadata": {
    "collapsed": true
   },
   "outputs": [],
   "source": [
    "gamma2 = 6000        # assuming approx 3 GeV\n",
    "density2 = 2*10**18  # in cm^-3\n",
    "rbeta2 = 5           # in microns"
   ]
  },
  {
   "cell_type": "markdown",
   "metadata": {},
   "source": [
    "Derived parameters:"
   ]
  },
  {
   "cell_type": "code",
   "execution_count": 50,
   "metadata": {
    "collapsed": false
   },
   "outputs": [],
   "source": [
    "omegap2 = plasmafreq(density2)\n",
    "ecrit2 = ecrit(density2,gamma2,rbeta2)\n",
    "divergence2 = divergence(density2,gamma2,rbeta2)"
   ]
  },
  {
   "cell_type": "code",
   "execution_count": 51,
   "metadata": {
    "collapsed": false
   },
   "outputs": [
    {
     "name": "stdout",
     "output_type": "stream",
     "text": [
      "Plasma frequency = 7.978e+13 1/s\n",
      "Critical Energy = 1.887e+06 eV\n",
      "Maximum Divergence = 1.215e+01 mrad\n"
     ]
    }
   ],
   "source": [
    "print(\"Plasma frequency = \" \"%.3e 1/s\" % omegap2)\n",
    "print(\"Critical Energy = \" \"%.3e eV\" % ecrit2)\n",
    "print(\"Maximum Divergence = \" \"%.3e mrad\" % divergence2)"
   ]
  },
  {
   "cell_type": "markdown",
   "metadata": {
    "collapsed": true
   },
   "source": [
    "### Estimating the parameters in stage 2 using extra drift in between"
   ]
  },
  {
   "cell_type": "markdown",
   "metadata": {},
   "source": [
    "Here using a result from KT Phuoc's paper 'Betatron radiation from density tailored plasmas'.\n",
    "\n",
    "In the first stage the electrons oscillate with a certain amplitude. As soon as they leave the plasma the fields disappear and the motion is approximately tangential over the drift.\n",
    "If the electrons satisfy the trapping condition for the second stage (L < gamma/abeta rb), where rb is the radius of the bubble. \n",
    "Then the new amplitude is reaching a value, basically the ratio of longitudinal to transversal momentum.\n",
    "\n",
    "x1 = abeta/gamma L.\n",
    "\n",
    "In the horizontal plane (plane of oscillation), the divergence is proportional to abeta/gamma, in the vertical plane it is just 1/gamma. Abeta is apparently the same as the undulator strength parameter sometimes referred to as K.\n",
    "\n",
    "That means K = abeta = gamma theta."
   ]
  },
  {
   "cell_type": "markdown",
   "metadata": {},
   "source": [
    "Assume same parameters for stage 1 as in the previous section.\n",
    "\n",
    "Which are:"
   ]
  },
  {
   "cell_type": "code",
   "execution_count": 52,
   "metadata": {
    "collapsed": false
   },
   "outputs": [
    {
     "name": "stdout",
     "output_type": "stream",
     "text": [
      "Plasma frequency = 7.978e+13 1/s\n",
      "Critical Energy = 4.717e+04 eV\n",
      "Maximum Divergence = 1.718e+00 mrad\n",
      "Betatron radius = 5.000e-01 microns\n"
     ]
    }
   ],
   "source": [
    "print(\"Plasma frequency = \" \"%.3e 1/s\" % omegap1)\n",
    "print(\"Critical Energy = \" \"%.3e eV\" % ecrit1)\n",
    "print(\"Maximum Divergence = \" \"%.3e mrad\" % divergence1)\n",
    "print(\"Betatron radius = \" \"%.3e microns\" % rbeta1)"
   ]
  },
  {
   "cell_type": "markdown",
   "metadata": {},
   "source": [
    "The length between the two stages be (between 5-20 mm):"
   ]
  },
  {
   "cell_type": "code",
   "execution_count": 62,
   "metadata": {
    "collapsed": true
   },
   "outputs": [],
   "source": [
    "d_stages = 8 # in mm"
   ]
  },
  {
   "cell_type": "markdown",
   "metadata": {},
   "source": [
    "The parameters for the second laser pulse are:"
   ]
  },
  {
   "cell_type": "code",
   "execution_count": 63,
   "metadata": {
    "collapsed": false
   },
   "outputs": [
    {
     "name": "stdout",
     "output_type": "stream",
     "text": [
      "Spot size = 2.546e+01 microns\n",
      "Peak intensity = 3.272e+19 W/cm^2\n",
      "a0 = 3.910e+00\n"
     ]
    }
   ],
   "source": [
    "Fnumber2 = 50 # f50 focusing\n",
    "waist2 = Fnumber2*2*0.8/pi # spot size in microns\n",
    "print(\"Spot size = \" \"%.3e microns\" % waist2)\n",
    "I02 = 10**(-4)*10**15*15/(0.5*45*pi*(waist2*10**(-6))**2)\n",
    "print(\"Peak intensity = \" \"%.3e W/cm^2\" % I02)\n",
    "a02 = math.sqrt(I02*0.8**2/(1.37*10**18))\n",
    "print(\"a0 = \" \"%.3e\" % a02)"
   ]
  },
  {
   "cell_type": "code",
   "execution_count": 64,
   "metadata": {
    "collapsed": false
   },
   "outputs": [
    {
     "name": "stdout",
     "output_type": "stream",
     "text": [
      "Bubble radius = 1.486e+01 microns\n"
     ]
    }
   ],
   "source": [
    "rbubble2 = rbubble(a02,density2)\n",
    "print(\"Bubble radius = \" \"%.3e microns\" % rbubble2)"
   ]
  },
  {
   "cell_type": "markdown",
   "metadata": {},
   "source": [
    "Giving a new amplitude of "
   ]
  },
  {
   "cell_type": "code",
   "execution_count": 65,
   "metadata": {
    "collapsed": false
   },
   "outputs": [
    {
     "name": "stdout",
     "output_type": "stream",
     "text": [
      "New betatron radius = 1.374e+01 microns\n"
     ]
    }
   ],
   "source": [
    "rbeta2_drift = divergence1*d_stages\n",
    "print(\"New betatron radius = \" \"%.3e microns\" % rbeta2_drift)"
   ]
  },
  {
   "cell_type": "markdown",
   "metadata": {},
   "source": [
    "Is this smaller than the bubble radius (i.e. can it be trapped?):"
   ]
  },
  {
   "cell_type": "code",
   "execution_count": 66,
   "metadata": {
    "collapsed": false
   },
   "outputs": [
    {
     "name": "stdout",
     "output_type": "stream",
     "text": [
      "New amplitude is smaller than bubble size. Electrons can be trapped!\n"
     ]
    }
   ],
   "source": [
    "if rbeta2_drift <= rbubble2:\n",
    "    print(\"New amplitude is smaller than bubble size. Electrons can be trapped!\")\n",
    "else:\n",
    "    print(\"New amplitude is larger than bubble size. Electrons can NOT be trapped!\")"
   ]
  },
  {
   "cell_type": "markdown",
   "metadata": {},
   "source": [
    "With a new amplitude of this value, the parameters for the second stage would be (assuming same density and energy):"
   ]
  },
  {
   "cell_type": "code",
   "execution_count": 67,
   "metadata": {
    "collapsed": false
   },
   "outputs": [
    {
     "name": "stdout",
     "output_type": "stream",
     "text": [
      "Plasma frequency = 7.978e+13 1/s\n",
      "Critical Energy = 5.186e+06 eV\n",
      "Maximum Divergence = 3.338e+01 mrad\n"
     ]
    }
   ],
   "source": [
    "ecrit2_drift = ecrit(density2,gamma2,rbeta2_drift)\n",
    "divergence2_drift = divergence(density2,gamma2,rbeta2_drift)\n",
    "print(\"Plasma frequency = \" \"%.3e 1/s\" % omegap2)\n",
    "print(\"Critical Energy = \" \"%.3e eV\" % ecrit2_drift)\n",
    "print(\"Maximum Divergence = \" \"%.3e mrad\" % divergence2_drift)"
   ]
  },
  {
   "cell_type": "markdown",
   "metadata": {
    "collapsed": true
   },
   "source": [
    "Some plots for visualisation:"
   ]
  },
  {
   "cell_type": "code",
   "execution_count": 68,
   "metadata": {
    "collapsed": false
   },
   "outputs": [
    {
     "data": {
      "image/png": "[encoded data removed]",
      "text/plain": [
       "<matplotlib.figure.Figure at 0x10e881748>"
      ]
     },
     "metadata": {},
     "output_type": "display_data"
    }
   ],
   "source": [
    "d_stage_array = np.arange(0,10,0.1)\n",
    "\n",
    "f,ax=plt.subplots(figsize=(20,10))\n",
    "\n",
    "plt.plot(d_stage_array,divergence1*d_stage_array)\n",
    "plt.plot(d_stage_array,rbubble2*np.ones(np.shape(d_stage_array)))\n",
    "plt.axvline(d_stages)\n",
    "plt.ylabel('$x_1 [\\mu m]$')\n",
    "plt.xlabel('$d_{stage} [mm]$')\n",
    "\n",
    "plt.style.use(\"ggplot\")\n",
    "\n",
    "plt.show()"
   ]
  },
  {
   "cell_type": "markdown",
   "metadata": {},
   "source": [
    "#### Dephasing Lengths"
   ]
  },
  {
   "cell_type": "markdown",
   "metadata": {
    "collapsed": true
   },
   "source": [
    "The increased betatron oscillations reduce the axial velocity, hence increasing the dephasing length.\n",
    "\n",
    "The dephasing lengths:"
   ]
  },
  {
   "cell_type": "code",
   "execution_count": 69,
   "metadata": {
    "collapsed": false
   },
   "outputs": [
    {
     "name": "stdout",
     "output_type": "stream",
     "text": [
      "Old betatron radius = 5.000e+00 microns\n",
      "New betatron radius = 1.374e+01 microns\n",
      "Dephasing length = 2.589e+01 mm\n",
      "Dephasing length with betatron = 2.767e+01 mm\n",
      "Dephasing length with betatron drift = 5.031e+01 mm\n",
      "Dephasing length beta - dephasing length/dephasing length = 6.867e-02\n",
      "Dephasing length beta 2 drift- dephasing length beta 2/dephasing length = 8.745e-01\n"
     ]
    }
   ],
   "source": [
    "print(\"Old betatron radius = \" \"%.3e microns\" % rbeta2)\n",
    "print(\"New betatron radius = \" \"%.3e microns\" % rbeta2_drift)\n",
    "\n",
    "Ldephasing2 = Ldephasing(a02,density2) # dephasing length without oscillations\n",
    "Ldephasing2beta = Ldephasing_beta(a02,density2,gamma2,rbeta2) # dephasing length with rbeta2 (no drift)\n",
    "Ldephasing2beta_drift = Ldephasing_beta(a02,density2,gamma2,rbeta2_drift) # dephasing length with rbeta2_drift (with drift)\n",
    "Ldephasing2betaToNobeta_normalised = (Ldephasing2beta-Ldephasing2)/Ldephasing2 # gain in length in units of Ldephasing\n",
    "Ldephasing2_DeltaBeta2Beta2DriftEqn = Ldephasing_betaDelta(density2,gamma2,rbeta2,rbeta2_drift) # gain in length drift to no-drift\n",
    "Ldephasing2_DeltaBeta2Beta2Drift = (Ldephasing2beta_drift-Ldephasing2beta)/Ldephasing2\n",
    "print(\"Dephasing length = \" \"%.3e mm\" % Ldephasing2)\n",
    "print(\"Dephasing length with betatron = \" \"%.3e mm\" % Ldephasing2beta)\n",
    "\n",
    "print(\"Dephasing length with betatron drift = \" \"%.3e mm\" % Ldephasing2beta_drift)\n",
    "print(\"Dephasing length beta - dephasing length/dephasing length = \" \"%.3e\" % Ldephasing2betaToNobeta_normalised)\n",
    "print(\"Dephasing length beta 2 drift- dephasing length beta 2/dephasing length = \" \"%.3e\" % Ldephasing2_DeltaBeta2Beta2Drift)"
   ]
  },
  {
   "cell_type": "markdown",
   "metadata": {},
   "source": [
    "Let us plot the dephasing lengths resulting from values of rbeta"
   ]
  },
  {
   "cell_type": "code",
   "execution_count": 70,
   "metadata": {
    "collapsed": false
   },
   "outputs": [
    {
     "data": {
      "image/png": "[encoded data removed]",
      "text/plain": [
       "<matplotlib.figure.Figure at 0x10e8df128>"
      ]
     },
     "metadata": {},
     "output_type": "display_data"
    }
   ],
   "source": [
    "rbeta_array = np.arange(0,15,0.1)\n",
    "Ldephasing_array = Ldephasing_beta(a02,density2,gamma2,rbeta_array)\n",
    "\n",
    "f,ax=plt.subplots(figsize=(20,10))\n",
    "\n",
    "plt.plot(rbeta_array,Ldephasing_array)\n",
    "plt.axvline(rbeta2_drift)\n",
    "plt.axvline(rbeta2, linestyle = '--')\n",
    "plt.axhline(Ldephasing2beta, linestyle = '--')\n",
    "plt.axhline(Ldephasing2beta_drift)\n",
    "plt.ylabel('$L_{dp} [mm]$')\n",
    "plt.xlabel('$r_{beta} [microns]$')\n",
    "\n",
    "plt.style.use(\"ggplot\")\n",
    "\n",
    "plt.show()\n"
   ]
  },
  {
   "cell_type": "code",
   "execution_count": null,
   "metadata": {
    "collapsed": true
   },
   "outputs": [],
   "source": []
  }
 ],
 "metadata": {
  "anaconda-cloud": {},
  "kernelspec": {
   "display_name": "Python [default]",
   "language": "python",
   "name": "python3"
  },
  "language_info": {
   "codemirror_mode": {
    "name": "ipython",
    "version": 3
   },
   "file_extension": ".py",
   "mimetype": "text/x-python",
   "name": "python",
   "nbconvert_exporter": "python",
   "pygments_lexer": "ipython3",
   "version": "3.5.2"
  }
 },
 "nbformat": 4,
 "nbformat_minor": 1
}
